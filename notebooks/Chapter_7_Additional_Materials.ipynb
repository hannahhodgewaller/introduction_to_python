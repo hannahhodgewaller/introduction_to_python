{
 "cells": [
  {
   "cell_type": "markdown",
   "metadata": {},
   "source": [
    "<a id='menu'></a>\n",
    " <hr style=\"width:100%;height:4px;border-width:0;color:gray;background-color:#003d59; opacity:0.25\"> \n",
    "\n",
    "![Analysis Function and DSC Logo](../images/AF_DSC_banner.png)\n",
    "<hr style=\"width:100%;height:4px;border-width:0;color:gray;background-color:#003d59; opacity:0.25\"> "
   ]
  },
  {
   "cell_type": "markdown",
   "metadata": {},
   "source": [
    "<a id='menu'></a>\n",
    "# Introduction to Python\n",
    "\n",
    "## Chapter 7 – Additonal Materials\n",
    "***\n",
    "Follow along with the code by running cells as you encounter them\n",
    "***\n",
    "\n",
    "This notebook contains supplementary material to the main course. This is material that we couldn’t quite squeeze into the course but might be useful or interesting for you.\n",
    "\n",
    "\n",
    "*Chapter Overview*\n",
    "\n",
    "* [Packages and Data](#packages)\n",
    " * Packages\n",
    " * Data\n",
    "\n",
    "* [Selecting rows with `loc` and `iloc`](#loc_iloc)\n",
    "\n",
    "* [Cross Tabs and Pivot Tables](#crosstabs_pivot)\n",
    " * Cross Tabs\n",
    " * Pivot Tables\n",
    " \n",
    "* [Numpy Select Function](#np_select)"
   ]
  },
  {
   "cell_type": "markdown",
   "metadata": {},
   "source": [
    "<a id='packages'></a>\n",
    "<hr style=\"width:100%;height:4px;border-width:0;color:gray;background-color:#003d59; opacity:1\"> "
   ]
  },
  {
   "cell_type": "markdown",
   "metadata": {},
   "source": [
    "## Packages and Data"
   ]
  },
  {
   "cell_type": "markdown",
   "metadata": {},
   "source": [
    "### Packages\n",
    "\n",
    "As a reminder – we should always import our packages at the top of our script.\n",
    "\n",
    "\n",
    "In this session we will use \n",
    "\n",
    "* pandas, and give it the nickname pd\n",
    "* numpy and give it the nickname np\n",
    "\n",
    "Complete this action in the cell below."
   ]
  },
  {
   "cell_type": "code",
   "execution_count": null,
   "metadata": {},
   "outputs": [],
   "source": [
    "# Import pandas into this cell\n"
   ]
  },
  {
   "cell_type": "markdown",
   "metadata": {},
   "source": [
    "You can run the \"solution\" cell if you need help - or revisit module 2.\n",
    "\n",
    "Practicing these basic commands helps your retention of the skills."
   ]
  },
  {
   "cell_type": "code",
   "execution_count": null,
   "metadata": {},
   "outputs": [],
   "source": [
    "%load ../solutions/chapter_6/chaptersixpackages.py"
   ]
  },
  {
   "cell_type": "markdown",
   "metadata": {
    "collapsed": true
   },
   "source": [
    "Load in the data:\n",
    "\n",
    "| variable name | file name  |\n",
    "| --- | --- |\n",
    "| animals | animals.csv |\n",
    "| titanic | titanic.xlsx |\n",
    "\n"
   ]
  },
  {
   "cell_type": "code",
   "execution_count": null,
   "metadata": {},
   "outputs": [],
   "source": [
    "# Load the Data \n",
    "\n"
   ]
  },
  {
   "cell_type": "markdown",
   "metadata": {},
   "source": [
    "You can run the \"solution\" cell if you need help - or revisit chapter 3.\n",
    "\n",
    "\n",
    "Practicing these basic commands helps your retention of the skills.\n",
    "\n",
    "This chapter uses the same data as chapter 6.\n",
    "\n",
    "You can check your variables are loaded by using `%whos` in Jupyter. In Spyder or other IDE's they should appear in your variable explorer. \n",
    "\n",
    "If you struggle with this section – review Chapter 3.\n"
   ]
  },
  {
   "cell_type": "code",
   "execution_count": null,
   "metadata": {},
   "outputs": [],
   "source": [
    "# Solution - These cells contain answers for the exercises.\n",
    "# Run once to reveal the code\n",
    "# Run again to reveal the output\n",
    "\n",
    "%load ../solutions/chapter_7/chaptersixdata.py"
   ]
  },
  {
   "cell_type": "markdown",
   "metadata": {},
   "source": [
    "[return to menu](#menu)"
   ]
  },
  {
   "cell_type": "markdown",
   "metadata": {},
   "source": [
    "<a id='loc_iloc'></a>\n",
    "<hr style=\"width:100%;height:4px;border-width:0;color:gray;background-color:#003d59; opacity:1\"> "
   ]
  },
  {
   "cell_type": "markdown",
   "metadata": {},
   "source": [
    "## Selecting Rows with `loc` and `iloc`\n",
    "\n",
    "In the section on updating values this course talks about how loc could be used to do the selection we have seen earlier in this course.\n",
    "`.loc[]` can be used to access groups of rows and columns either by using labels or a Boolean array.\n",
    "\n",
    "`.loc[row_label, column_label]`\n",
    "\n",
    "In both the `animals` and `titanic` dataset our row labels are a sequential index starting at 0.\n",
    "\n",
    "Just as when we indexed lists and tupples in chapter 2 we can use a colon to denote a slice; e.g 0:5 will return rows 0 to 5. Note that in `.loc[]` these numbers are inclusive.\n",
    "\n",
    "Here this behaviour mimics that of `animals.head()`\n"
   ]
  },
  {
   "cell_type": "code",
   "execution_count": null,
   "metadata": {
    "scrolled": true
   },
   "outputs": [],
   "source": [
    "animals.loc[0:5, :] # Rows 0 to 5, all columns"
   ]
  },
  {
   "cell_type": "markdown",
   "metadata": {},
   "source": [
    "Columns can be selected by passing either an individual value or a list to the columns label.\n",
    "\n",
    "The list here has been created on the line before – but this can also be done in place within the iloc."
   ]
  },
  {
   "cell_type": "code",
   "execution_count": null,
   "metadata": {
    "scrolled": true
   },
   "outputs": [],
   "source": [
    "my_columns = [\"IncidentNumber\", \"FinalDescription\" ,  \"London\"]\n",
    "animals.loc[0:5, my_columns] # Rows 0 to 5, select columns"
   ]
  },
  {
   "cell_type": "markdown",
   "metadata": {},
   "source": [
    "Using `.iloc[]` we can also reference columns by numerical position (either positive or negative)"
   ]
  },
  {
   "cell_type": "code",
   "execution_count": null,
   "metadata": {
    "scrolled": false
   },
   "outputs": [],
   "source": [
    "animals.iloc[0:5, [0, 9 , -1 ]] # Rows 0 to 5, select columns - note this is iloc"
   ]
  },
  {
   "cell_type": "markdown",
   "metadata": {},
   "source": [
    "If the columns index is left blank all columns are returned."
   ]
  },
  {
   "cell_type": "code",
   "execution_count": null,
   "metadata": {},
   "outputs": [],
   "source": [
    "animals.loc[0:5]"
   ]
  },
  {
   "cell_type": "markdown",
   "metadata": {},
   "source": [
    "If you wish to return all rows of a specific column (or set of columns) you must show this by using using a colon for the rows, e.g"
   ]
  },
  {
   "cell_type": "code",
   "execution_count": null,
   "metadata": {},
   "outputs": [],
   "source": [
    "animals.loc[:, \"DateTimeOfCall\"]"
   ]
  },
  {
   "cell_type": "markdown",
   "metadata": {},
   "source": [
    "So far we have showed multiple values; but both `.loc[]` and `.iloc[]` can be used to retrieve individual values. This might not be particularly useful in either of these datasets; but would be useful for say extracting a singular value from a time series data set."
   ]
  },
  {
   "cell_type": "code",
   "execution_count": null,
   "metadata": {},
   "outputs": [],
   "source": [
    "animals.loc[123, \"FinalDescription\"]"
   ]
  },
  {
   "cell_type": "markdown",
   "metadata": {},
   "source": [
    "As seen `.loc[]` can also be used as a filter – we used this to update values; but it can also be used to just return them.\n",
    "\n",
    "To do this we pass a filtering condition to the row index. Again this can be done in place (as shown) or defined separately. "
   ]
  },
  {
   "cell_type": "code",
   "execution_count": null,
   "metadata": {},
   "outputs": [],
   "source": [
    "animals.loc[animals[\"AnimalGroupParent\"] ==  \"Rabbit\"]"
   ]
  },
  {
   "cell_type": "markdown",
   "metadata": {},
   "source": [
    "Above we returned all columns but this can be controlled as well. "
   ]
  },
  {
   "cell_type": "code",
   "execution_count": null,
   "metadata": {
    "scrolled": true
   },
   "outputs": [],
   "source": [
    "animals.loc[animals[\"AnimalGroupParent\"] ==  \"Rabbit\", # Select rows that match the criteria\n",
    "            [\"IncidentNumber\", \"SpecialServiceType\" ] ] # Select columns"
   ]
  },
  {
   "cell_type": "markdown",
   "metadata": {},
   "source": [
    "[return to menu](#menu)"
   ]
  },
  {
   "cell_type": "markdown",
   "metadata": {},
   "source": [
    "<a id='crosstabs_pivot'></a>\n",
    "<hr style=\"width:100%;height:4px;border-width:0;color:gray;background-color:#003d59; opacity:1\"> "
   ]
  },
  {
   "cell_type": "markdown",
   "metadata": {},
   "source": [
    "## Cross Tabs and Pivot Tables\n",
    "\n",
    "Similar to aggregation with `.groupby()` a cross-tabulation table allows you to generate frequencies for combinations of groups of data.\n",
    "\n",
    "Crosstabs are often also referred to as 'contingency tables' and 'two-way tables' and, although there may be some subtle distinctions, these all refer to the setting of one categorical variable against another, creating a matrix, and then counting, or otherwise aggregating by cell values.\n",
    "\n",
    "To create cross-tabulations, you can use the `pd.crosstab()` function.\n",
    "\n",
    "Let's have a look at a simple example:\n"
   ]
  },
  {
   "cell_type": "code",
   "execution_count": null,
   "metadata": {},
   "outputs": [],
   "source": [
    "# Crosstab the new variable 'London' by 'AnimalClass'\n",
    "\n",
    "pd.crosstab(animals['London'],animals['AnimalClass'])"
   ]
  },
  {
   "cell_type": "markdown",
   "metadata": {},
   "source": [
    "The basic use of .crosstab() requires that you input the row category ('London') and the column category ('AnimalClass'). \n",
    "\n",
    "This produces cell counts for the cross-tabulation of the two categories, so there were 433 records that were both 'Inner London' and 'Bird'.\n",
    "\n",
    "The basic crosstab can be augmented with some additional parameters:\n",
    "\n",
    "*\tmargins - set to True to add row and column totals.\n",
    "*\tnormalize - create row or column proportions, or overall proportions, rather than frequencies. Keywords are 'index', 'columns' or 'all'.\n"
   ]
  },
  {
   "cell_type": "code",
   "execution_count": null,
   "metadata": {},
   "outputs": [],
   "source": [
    "# Check out margins\n",
    "pd.crosstab(animals['London'],animals['AnimalClass'], margins=True)"
   ]
  },
  {
   "cell_type": "code",
   "execution_count": null,
   "metadata": {},
   "outputs": [],
   "source": [
    "# Compute row proportions, with margins. 'index'\n",
    "pd.crosstab(animals['London'],animals['AnimalClass'], normalize = 'index', margins=True)"
   ]
  },
  {
   "cell_type": "code",
   "execution_count": null,
   "metadata": {},
   "outputs": [],
   "source": [
    "# Compute overall proportions, with margins. 'all'\n",
    "pd.crosstab(animals['London'],animals['AnimalClass'], normalize = 'all', margins=True)"
   ]
  },
  {
   "cell_type": "markdown",
   "metadata": {},
   "source": [
    "Finally, by using the 'values' parameter, we can use a column to produce a similar output to the .groupby() on 'Cat' and 'Borough', but in a different data structure."
   ]
  },
  {
   "cell_type": "code",
   "execution_count": null,
   "metadata": {},
   "outputs": [],
   "source": [
    "pd.crosstab(animals['Borough'],\n",
    "            animals['Cat'],\n",
    "            values = animals['IncidentNominalCost(£)'],\n",
    "            aggfunc='sum').head(6)"
   ]
  },
  {
   "cell_type": "markdown",
   "metadata": {},
   "source": [
    "[return to menu](#menu)"
   ]
  },
  {
   "cell_type": "markdown",
   "metadata": {},
   "source": [
    "<hr style=\"width:70%;height:4px;border-width:0;color:gray;background-color:#003d59; opacity:0.75\"> "
   ]
  },
  {
   "cell_type": "markdown",
   "metadata": {},
   "source": [
    "## Pivot Tables\n",
    "Pandas also provides a .pivot_table() function, which acts a bit like the .groupby() and .crosstab() function combined, but is set out in a way that may be more intuitive to people used to using pivot tables in spreadsheets, as opposed to crosstabs or aggregations in statistical software.\n",
    "Below, it is quite simple to reproduce the two-group aggregation behaviour of groupby and crosstab.\n",
    "\n",
    "\n"
   ]
  },
  {
   "cell_type": "code",
   "execution_count": null,
   "metadata": {},
   "outputs": [],
   "source": [
    "pd.pivot_table(data = animals,\n",
    "               values = 'IncidentNominalCost(£)', \n",
    "               index='Borough',\n",
    "               columns='Cat',\n",
    "               aggfunc='sum',\n",
    "               fill_value=0).head()"
   ]
  },
  {
   "cell_type": "markdown",
   "metadata": {},
   "source": [
    "In addition, pivot tables can also behave almost identically to .groupby() if you want an aggregation by a single group (which crosstab cannot do):"
   ]
  },
  {
   "cell_type": "code",
   "execution_count": null,
   "metadata": {},
   "outputs": [],
   "source": [
    "pd.pivot_table(data=animals,values='IncidentNominalCost(£)',\n",
    "               index='AnimalClass',\n",
    "               aggfunc='sum')"
   ]
  },
  {
   "cell_type": "markdown",
   "metadata": {},
   "source": [
    "In this sense, your approach to aggregating data can be led by whichever method you feel more comfortable applying as there is clearly overlap between the functions. In terms of clarity, directed use of .crosstab() or .groupby() may be more instructive to reader than .pivot_table() as pivot table necessarily requires a little more engagement to understand exactly what process data are undergoing."
   ]
  },
  {
   "cell_type": "markdown",
   "metadata": {},
   "source": [
    "[return to menu](#menu)"
   ]
  },
  {
   "cell_type": "markdown",
   "metadata": {},
   "source": [
    "<a id='np_select'></a>\n",
    "<hr style=\"width:100%;height:4px;border-width:0;color:gray;background-color:#003d59; opacity:1\"> "
   ]
  },
  {
   "cell_type": "markdown",
   "metadata": {},
   "source": [
    "## Numpy Select Function"
   ]
  },
  {
   "cell_type": "markdown",
   "metadata": {},
   "source": [
    "The `np.select()` function can be used to apply conditions to a DataFrame.\n",
    "I want to add in a new column with the country people embarked in. For Southampton (S) this would be England, Cherbourg (C) that would be France and for Queenstown (Q) that would be Ireland. There’s also 2 missing values in this column that I want to put a default value “Unknown” in.\n",
    "\n",
    "While this can all be done in place; here the steps have been split out to make it easier to comprehend.\n",
    " \n",
    "First we need to create some conditions. These are created as a list, and are the same as filtering conditions we looked at in Chapter 4.\n",
    "\n",
    "Note the default value - our \"unknown\" will be handled later.\n"
   ]
  },
  {
   "cell_type": "code",
   "execution_count": null,
   "metadata": {},
   "outputs": [],
   "source": [
    "conditions = [\n",
    "    (titanic[\"embarked\"] == \"S\"),\n",
    "    (titanic[\"embarked\"] == \"C\"),\n",
    "    (titanic[\"embarked\"] == \"Q\"),\n",
    "]"
   ]
  },
  {
   "cell_type": "markdown",
   "metadata": {},
   "source": [
    "We then create the values that will be used in our new column – these are in the same order as our conditions we created above.\n",
    "\n",
    "Note that again the default value - our \"unknown\" will be handled later.\n"
   ]
  },
  {
   "cell_type": "code",
   "execution_count": null,
   "metadata": {},
   "outputs": [],
   "source": [
    "values = [\"England\", \"France\", \"Ireland\"]"
   ]
  },
  {
   "cell_type": "markdown",
   "metadata": {},
   "source": [
    "We can now use these values in our `np.select`.\n",
    "First we create a new column – `embarked_country`; again if we wanted to we could overwrite an existing column.\n",
    "`np.select()` takes 3 arguments\n",
    "\n",
    "*  `condlist = ` the list of our conditions\n",
    "* `choicelist =` the list of values we want to use when conditions are met\n",
    "* `default = ` the value that will be used if none of the conditions are met.\n"
   ]
  },
  {
   "cell_type": "code",
   "execution_count": null,
   "metadata": {
    "scrolled": false
   },
   "outputs": [],
   "source": [
    "titanic[\"embarked_country\"] = np.select(condlist = conditions, choicelist= values, default= \"Unknown\")\n",
    "\n",
    "titanic.sample(10, random_state = 42)"
   ]
  },
  {
   "cell_type": "markdown",
   "metadata": {},
   "source": [
    "If we use a filter we can see the \"Unknown\" values show where embarked was `NaN`"
   ]
  },
  {
   "cell_type": "code",
   "execution_count": null,
   "metadata": {},
   "outputs": [],
   "source": [
    "titanic[titanic[\"embarked_country\"] == \"Unknown\"]"
   ]
  },
  {
   "cell_type": "markdown",
   "metadata": {},
   "source": [
    "`default = ` is very useful – as it can be set to a column; if none of the values in our `condlist = ` match then it uses the value from an existing cell.\n",
    "\n",
    "Again this is a very artificial scenario – but I want to label anyone travelling with more than 5 family members on board (sibsp + parch + themselves) as part of a “Big” family. Anyone travelling by themselves as a “None” family on board. For all other family sizes I want to just display the size of the family by referencing the values in the columns.\n",
    "\n",
    "I’ve used `.loc[]` (see above) to select some specific rows so the effect can be seen."
   ]
  },
  {
   "cell_type": "code",
   "execution_count": null,
   "metadata": {},
   "outputs": [],
   "source": [
    "family_size = [\n",
    "    ( (titanic[\"parch\"] + titanic[\"sibsp\"] + 1 ) >= 5 ),\n",
    "    ( (titanic[\"parch\"] + titanic[\"sibsp\"] + 1 ) == 1 ) ]\n",
    "\n",
    "family_size_string = [\"Big\", \"None\"]\n",
    "\n",
    "titanic[\"family_on_board\"] = np.select(condlist = family_size,\n",
    "                                       choicelist= family_size_string,\n",
    "                                       default= (titanic[\"parch\"] + titanic[\"sibsp\"] + 1 ))\n",
    "\n",
    "# .loc used here to show one row with each of the values\n",
    "titanic.loc[ [111,1237,140, 3]]"
   ]
  },
  {
   "cell_type": "markdown",
   "metadata": {},
   "source": [
    "[return to menu](#menu)"
   ]
  },
  {
   "cell_type": "markdown",
   "metadata": {},
   "source": [
    "<a id='end'></a>\n",
    "<hr style=\"width:100%;height:4px;border-width:0;color:gray;background-color:#003d59; opacity:1\"> "
   ]
  },
  {
   "cell_type": "markdown",
   "metadata": {},
   "source": [
    "## End of Chapter"
   ]
  },
  {
   "cell_type": "markdown",
   "metadata": {},
   "source": [
    "You’ve reached the end of the additional material in this course.\n",
    "\n",
    "If you feel there’s something that would make a good addition here please let us know!\n"
   ]
  },
  {
   "cell_type": "markdown",
   "metadata": {},
   "source": [
    "[return to menu](#menu)"
   ]
  }
 ],
 "metadata": {
  "kernelspec": {
   "display_name": "Python 3",
   "language": "python",
   "name": "python3"
  },
  "language_info": {
   "codemirror_mode": {
    "name": "ipython",
    "version": 3
   },
   "file_extension": ".py",
   "mimetype": "text/x-python",
   "name": "python",
   "nbconvert_exporter": "python",
   "pygments_lexer": "ipython3",
   "version": "3.8.3"
  }
 },
 "nbformat": 4,
 "nbformat_minor": 2
}
